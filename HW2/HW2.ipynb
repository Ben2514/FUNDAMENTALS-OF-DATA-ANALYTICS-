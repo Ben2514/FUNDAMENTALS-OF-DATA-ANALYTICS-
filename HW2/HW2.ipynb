{
 "cells": [
  {
   "cell_type": "markdown",
   "metadata": {},
   "source": [
    "### 問題：是否有心血管疾病(Healthy:Yes/No)\n",
    "### 特徵：年齡(Age)、性別(Sex:Male/Female)、BMI、有無抽菸喝酒等不良嗜好(Bad Habit:Yes/No)\n",
    "### 規則：1.年齡越高患病機率越高 2.BMI越高患病機率越高 3.有不良嗜好患病機率越高 4.有不良嗜好且超過50歲一定患病\n",
    "\n",
    "#### 假設之數據中有加入一些雜訊，以模擬實際狀況"
   ]
  },
  {
   "cell_type": "code",
   "execution_count": 1,
   "metadata": {},
   "outputs": [],
   "source": [
    "import pandas as pd\n",
    "from sklearn.tree import DecisionTreeClassifier\n",
    "from sklearn.externals.six import StringIO   \n",
    "from sklearn.tree import export_graphviz\n",
    "import pydotplus"
   ]
  },
  {
   "cell_type": "code",
   "execution_count": 2,
   "metadata": {},
   "outputs": [
    {
     "name": "stdout",
     "output_type": "stream",
     "text": [
      "  Healthy  Age     Sex        BMI Bad Habit\n",
      "0     Yes   25    Male  21.013379       Yes\n",
      "1      No   42  Female  28.988226       Yes\n",
      "2      No   46  Female  33.655840        No\n",
      "3     Yes   27  Female  18.322614        No\n",
      "4     Yes   67    Male  22.360735        No\n"
     ]
    }
   ],
   "source": [
    "df=pd.read_csv('data.csv')\n",
    "print(df.head())\n",
    "\n",
    "sex_map={'Male':0, 'Female':1}\n",
    "YN_map = {'No':0, 'Yes':1}\n",
    "df['Sex']=df['Sex'].map(sex_map)\n",
    "df['Healthy']=df['Healthy'].map(YN_map)\n",
    "df['Bad Habit']=df['Bad Habit'].map(YN_map)"
   ]
  },
  {
   "cell_type": "code",
   "execution_count": 3,
   "metadata": {},
   "outputs": [],
   "source": [
    "df_train=df[:200]\n",
    "df_test=df[200:]"
   ]
  },
  {
   "cell_type": "code",
   "execution_count": 4,
   "metadata": {},
   "outputs": [],
   "source": [
    "train_ans=df_train['Healthy'].values\n",
    "df_train=df_train.drop('Healthy', 1)"
   ]
  },
  {
   "cell_type": "code",
   "execution_count": 5,
   "metadata": {},
   "outputs": [
    {
     "data": {
      "text/plain": [
       "True"
      ]
     },
     "execution_count": 5,
     "metadata": {},
     "output_type": "execute_result"
    }
   ],
   "source": [
    "dtree=DecisionTreeClassifier(max_depth=4, min_samples_split=10)\n",
    "dtree.fit(df_train, train_ans)\n",
    "\n",
    "dot_data=StringIO()\n",
    "export_graphviz(dtree, \n",
    "                out_file=dot_data,  \n",
    "                filled=True, \n",
    "                feature_names=list(df_train),\n",
    "                class_names=['Unhealthy', 'Healthy'],\n",
    "                special_characters=True)\n",
    "\n",
    "graph=pydotplus.graph_from_dot_data(dot_data.getvalue())  \n",
    "graph.write_pdf(\"tree.pdf\")"
   ]
  },
  {
   "cell_type": "code",
   "execution_count": 6,
   "metadata": {},
   "outputs": [
    {
     "name": "stdout",
     "output_type": "stream",
     "text": [
      "[0.29898049 0.         0.4375899  0.26342961]\n"
     ]
    }
   ],
   "source": [
    "print(dtree.feature_importances_)\n",
    "\n",
    "test_ans=df_test['Healthy'].values\n",
    "df_test=df_test.drop('Healthy', 1)\n",
    "\n",
    "predict=dtree.predict(df_test)"
   ]
  },
  {
   "cell_type": "code",
   "execution_count": 7,
   "metadata": {},
   "outputs": [
    {
     "data": {
      "text/plain": [
       "0.84"
      ]
     },
     "execution_count": 7,
     "metadata": {},
     "output_type": "execute_result"
    }
   ],
   "source": [
    "from sklearn.metrics import accuracy_score\n",
    "accuracy_score(test_ans, predict)"
   ]
  },
  {
   "attachments": {},
   "cell_type": "markdown",
   "metadata": {},
   "source": [
    "<img src=\"demo.png\" border=\"0\">"
   ]
  },
  {
   "cell_type": "markdown",
   "metadata": {},
   "source": [
    "### Report\n",
    "#### 在產生數據時都是依據年齡、BMI及有無不良嗜好這3項去設定，而這點也可從特徵重要性發現：性別所佔重要性為0，而BMI又較另外2項來得高。\n",
    "#### 規則方面，由於前2項規則是依據機率實行，並無一個準確的閥值，所以分析上會有一定的誤差；而第3項也是準確的，不會因為資料中的少許雜訊而影響分析結果。\n",
    "#### 最後測試由分析得到的決策樹，準確率有84%，是可以接受的準確率。"
   ]
  }
 ],
 "metadata": {
  "kernelspec": {
   "display_name": "Python 3",
   "language": "python",
   "name": "python3"
  },
  "language_info": {
   "codemirror_mode": {
    "name": "ipython",
    "version": 3
   },
   "file_extension": ".py",
   "mimetype": "text/x-python",
   "name": "python",
   "nbconvert_exporter": "python",
   "pygments_lexer": "ipython3",
   "version": "3.7.1"
  }
 },
 "nbformat": 4,
 "nbformat_minor": 2
}
