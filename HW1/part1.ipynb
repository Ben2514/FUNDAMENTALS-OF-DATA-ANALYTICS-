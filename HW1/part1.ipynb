{
 "cells": [
  {
   "cell_type": "code",
   "execution_count": 1,
   "metadata": {},
   "outputs": [],
   "source": [
    "import numpy as np\n",
    "import pandas as pd\n",
    "import matplotlib.pyplot as plt\n",
    "import time\n",
    "import seaborn as sns"
   ]
  },
  {
   "cell_type": "code",
   "execution_count": 2,
   "metadata": {},
   "outputs": [],
   "source": [
    "pd_data=pd.read_csv('Reviews.csv')\n",
    "pd_data=pd_data[:10000]"
   ]
  },
  {
   "cell_type": "markdown",
   "metadata": {},
   "source": [
    "# 1. Top-10 Reviewer"
   ]
  },
  {
   "cell_type": "code",
   "execution_count": 3,
   "metadata": {},
   "outputs": [
    {
     "name": "stderr",
     "output_type": "stream",
     "text": [
      "C:\\ProgramData\\Anaconda3\\lib\\site-packages\\ipykernel_launcher.py:2: FutureWarning: using a dict on a Series for aggregation\n",
      "is deprecated and will be removed in a future version\n",
      "  \n",
      "C:\\ProgramData\\Anaconda3\\lib\\site-packages\\ipykernel_launcher.py:3: FutureWarning: using a dict on a Series for aggregation\n",
      "is deprecated and will be removed in a future version\n",
      "  This is separate from the ipykernel package so we can avoid doing imports until\n"
     ]
    },
    {
     "data": {
      "text/html": [
       "<div>\n",
       "<style scoped>\n",
       "    .dataframe tbody tr th:only-of-type {\n",
       "        vertical-align: middle;\n",
       "    }\n",
       "\n",
       "    .dataframe tbody tr th {\n",
       "        vertical-align: top;\n",
       "    }\n",
       "\n",
       "    .dataframe thead th {\n",
       "        text-align: right;\n",
       "    }\n",
       "</style>\n",
       "<table border=\"1\" class=\"dataframe\">\n",
       "  <thead>\n",
       "    <tr style=\"text-align: right;\">\n",
       "      <th></th>\n",
       "      <th></th>\n",
       "      <th>Score count</th>\n",
       "      <th>Score mean</th>\n",
       "    </tr>\n",
       "    <tr>\n",
       "      <th>UserId</th>\n",
       "      <th>ProfileName</th>\n",
       "      <th></th>\n",
       "      <th></th>\n",
       "    </tr>\n",
       "  </thead>\n",
       "  <tbody>\n",
       "    <tr>\n",
       "      <th>A1Z54EM24Y40LL</th>\n",
       "      <th>c2</th>\n",
       "      <td>17</td>\n",
       "      <td>3.882353</td>\n",
       "    </tr>\n",
       "    <tr>\n",
       "      <th>A2SZLNSI5KOQJT</th>\n",
       "      <th>Carrie, \"Formerly &amp;#34;Sister Carrie&amp;#34;\"</th>\n",
       "      <td>10</td>\n",
       "      <td>3.800000</td>\n",
       "    </tr>\n",
       "    <tr>\n",
       "      <th>A35R32TA60XD57</th>\n",
       "      <th>M. Torma</th>\n",
       "      <td>9</td>\n",
       "      <td>4.111111</td>\n",
       "    </tr>\n",
       "    <tr>\n",
       "      <th>A281NPSIMI1C2R</th>\n",
       "      <th>Rebecca of Amazon \"The Rebecca Review\"</th>\n",
       "      <td>8</td>\n",
       "      <td>5.000000</td>\n",
       "    </tr>\n",
       "    <tr>\n",
       "      <th>A3OXHLG6DIBRW8</th>\n",
       "      <th>C. F. Hill \"CFH\"</th>\n",
       "      <td>7</td>\n",
       "      <td>4.428571</td>\n",
       "    </tr>\n",
       "    <tr>\n",
       "      <th>A3NHUQ33CFH3VM</th>\n",
       "      <th>Citizen John</th>\n",
       "      <td>7</td>\n",
       "      <td>3.142857</td>\n",
       "    </tr>\n",
       "    <tr>\n",
       "      <th>A3PJZ8TU8FDQ1K</th>\n",
       "      <th>Jared Castle</th>\n",
       "      <td>7</td>\n",
       "      <td>4.714286</td>\n",
       "    </tr>\n",
       "    <tr>\n",
       "      <th>AQQLWCMRNDFGI</th>\n",
       "      <th>Steven A. Peterson</th>\n",
       "      <td>6</td>\n",
       "      <td>4.166667</td>\n",
       "    </tr>\n",
       "    <tr>\n",
       "      <th>AY12DBB0U420B</th>\n",
       "      <th>Gary Peterson</th>\n",
       "      <td>6</td>\n",
       "      <td>4.500000</td>\n",
       "    </tr>\n",
       "    <tr>\n",
       "      <th>A2R6RA8FRBS608</th>\n",
       "      <th>Matthew G. Sherwin</th>\n",
       "      <td>6</td>\n",
       "      <td>5.000000</td>\n",
       "    </tr>\n",
       "  </tbody>\n",
       "</table>\n",
       "</div>"
      ],
      "text/plain": [
       "                                                           Score count  \\\n",
       "UserId         ProfileName                                               \n",
       "A1Z54EM24Y40LL c2                                                   17   \n",
       "A2SZLNSI5KOQJT Carrie, \"Formerly &#34;Sister Carrie&#34;\"           10   \n",
       "A35R32TA60XD57 M. Torma                                              9   \n",
       "A281NPSIMI1C2R Rebecca of Amazon \"The Rebecca Review\"                8   \n",
       "A3OXHLG6DIBRW8 C. F. Hill \"CFH\"                                      7   \n",
       "A3NHUQ33CFH3VM Citizen John                                          7   \n",
       "A3PJZ8TU8FDQ1K Jared Castle                                          7   \n",
       "AQQLWCMRNDFGI  Steven A. Peterson                                    6   \n",
       "AY12DBB0U420B  Gary Peterson                                         6   \n",
       "A2R6RA8FRBS608 Matthew G. Sherwin                                    6   \n",
       "\n",
       "                                                           Score mean  \n",
       "UserId         ProfileName                                             \n",
       "A1Z54EM24Y40LL c2                                            3.882353  \n",
       "A2SZLNSI5KOQJT Carrie, \"Formerly &#34;Sister Carrie&#34;\"    3.800000  \n",
       "A35R32TA60XD57 M. Torma                                      4.111111  \n",
       "A281NPSIMI1C2R Rebecca of Amazon \"The Rebecca Review\"        5.000000  \n",
       "A3OXHLG6DIBRW8 C. F. Hill \"CFH\"                              4.428571  \n",
       "A3NHUQ33CFH3VM Citizen John                                  3.142857  \n",
       "A3PJZ8TU8FDQ1K Jared Castle                                  4.714286  \n",
       "AQQLWCMRNDFGI  Steven A. Peterson                            4.166667  \n",
       "AY12DBB0U420B  Gary Peterson                                 4.500000  \n",
       "A2R6RA8FRBS608 Matthew G. Sherwin                            5.000000  "
      ]
     },
     "execution_count": 3,
     "metadata": {},
     "output_type": "execute_result"
    }
   ],
   "source": [
    "pd_data1=pd_data.groupby(['UserId', 'ProfileName'])\n",
    "pd_data2=pd_data1['UserId'].agg({'Score count':'count'})\n",
    "pd_data3=pd_data1['Score'].agg({'Score mean':'mean'})\n",
    "pd_data4=pd.concat([pd_data2, pd_data3], axis=1).sort_values('Score count', ascending=False)\n",
    "pd_data4.sort_values('Score count', ascending=False).head(10)"
   ]
  },
  {
   "cell_type": "markdown",
   "metadata": {},
   "source": [
    "# 2. Plot score distribution for the user with the most number of reviews"
   ]
  },
  {
   "cell_type": "code",
   "execution_count": 4,
   "metadata": {},
   "outputs": [
    {
     "data": {
      "image/png": "[encoded data removed]",
      "text/plain": [
       "<Figure size 432x288 with 1 Axes>"
      ]
     },
     "metadata": {
      "needs_background": "light"
     },
     "output_type": "display_data"
    },
    {
     "data": {
      "text/plain": [
       "<matplotlib.axes._subplots.AxesSubplot at 0x13e36ce5be0>"
      ]
     },
     "execution_count": 4,
     "metadata": {},
     "output_type": "execute_result"
    },
    {
     "data": {
      "image/png": "[encoded data removed]",
      "text/plain": [
       "<Figure size 432x288 with 1 Axes>"
      ]
     },
     "metadata": {
      "needs_background": "light"
     },
     "output_type": "display_data"
    }
   ],
   "source": [
    "S=pd_data.loc[pd_data.UserId==pd_data4.index[0][0], 'Score'].value_counts().sort_values(ascending=True)\n",
    "plt.bar(range(1, 6), S, color='rgbky')\n",
    "plt.show()\n",
    "sns.countplot(x=pd_data.loc[pd_data.UserId==pd_data4.index[0][0], 'Score'], data=pd_data.loc[pd_data.UserId==pd_data4.index[0][0], 'Score'])"
   ]
  },
  {
   "cell_type": "markdown",
   "metadata": {},
   "source": [
    "# 3. Plot pandas Series DataFrame (Time->Date)"
   ]
  },
  {
   "cell_type": "code",
   "execution_count": 15,
   "metadata": {},
   "outputs": [
    {
     "data": {
      "image/png": "[encoded data removed]",
      "text/plain": [
       "<Figure size 1080x360 with 2 Axes>"
      ]
     },
     "metadata": {
      "needs_background": "light"
     },
     "output_type": "display_data"
    }
   ],
   "source": [
    "year=[]\n",
    "month=[]\n",
    "\n",
    "Time=pd_data.loc[:, 'Time']\n",
    "for i in Time:\n",
    "    year.append(time.strftime(\"%Y\", time.localtime(i)))\n",
    "    month.append(time.strftime(\"%m\", time.localtime(i)))\n",
    "\n",
    "plt.figure(figsize=(15, 5))\n",
    "plt.subplot(1, 2, 1)\n",
    "plt.bar(np.unique(year, return_counts=True)[0], np.unique(year, return_counts=True)[1])\n",
    "plt.subplot(1, 2, 2)\n",
    "plt.bar(np.unique(month, return_counts=True)[0], np.unique(month, return_counts=True)[1])\n",
    "plt.show()"
   ]
  },
  {
   "cell_type": "markdown",
   "metadata": {},
   "source": [
    "# 4. Plot HeatMap using seaborn"
   ]
  },
  {
   "cell_type": "code",
   "execution_count": 6,
   "metadata": {},
   "outputs": [
    {
     "data": {
      "text/plain": [
       "<matplotlib.axes._subplots.AxesSubplot at 0x13e36f7bcf8>"
      ]
     },
     "execution_count": 6,
     "metadata": {},
     "output_type": "execute_result"
    },
    {
     "data": {
      "image/png": "[encoded data removed]",
      "text/plain": [
       "<Figure size 576x576 with 2 Axes>"
      ]
     },
     "metadata": {
      "needs_background": "light"
     },
     "output_type": "display_data"
    }
   ],
   "source": [
    "pd_data5=pd_data.drop(['ProductId', 'UserId', 'ProfileName', 'Summary', 'Text'], axis=1)\n",
    "\n",
    "plt.figure(figsize=(8, 8))\n",
    "sns.heatmap(pd_data5.corr(), annot=True)"
   ]
  },
  {
   "cell_type": "markdown",
   "metadata": {},
   "source": [
    "# 5. Helpful percent"
   ]
  },
  {
   "cell_type": "code",
   "execution_count": 7,
   "metadata": {
    "scrolled": true
   },
   "outputs": [
    {
     "data": {
      "image/png": "[encoded data removed]",
      "text/plain": [
       "<Figure size 432x288 with 1 Axes>"
      ]
     },
     "metadata": {
      "needs_background": "light"
     },
     "output_type": "display_data"
    }
   ],
   "source": [
    "numerator=[]\n",
    "denominator=[]\n",
    "percent=[]\n",
    "\n",
    "for i in pd_data.loc[:, 'HelpfulnessNumerator']:\n",
    "    numerator.append(i)\n",
    "for i in pd_data.loc[:, 'HelpfulnessDenominator']:\n",
    "    denominator.append(i)\n",
    "for i in range(0,len(numerator)):\n",
    "    if numerator[i]==0& denominator[i]==0:\n",
    "        percent.append(-1)\n",
    "    else:\n",
    "        percent.append(numerator[i]/denominator[i])\n",
    "        \n",
    "plt.hist(percent)\n",
    "plt.grid()\n",
    "plt.show()"
   ]
  },
  {
   "cell_type": "code",
   "execution_count": 8,
   "metadata": {},
   "outputs": [
    {
     "data": {
      "text/plain": [
       "pandas.core.series.Series"
      ]
     },
     "execution_count": 8,
     "metadata": {},
     "output_type": "execute_result"
    }
   ],
   "source": [
    "type(pd_data.loc[pd_data.UserId==pd_data4.index[0][0], 'Score'].value_counts().sort_values(ascending=True))"
   ]
  }
 ],
 "metadata": {
  "kernelspec": {
   "display_name": "Python 3",
   "language": "python",
   "name": "python3"
  },
  "language_info": {
   "codemirror_mode": {
    "name": "ipython",
    "version": 3
   },
   "file_extension": ".py",
   "mimetype": "text/x-python",
   "name": "python",
   "nbconvert_exporter": "python",
   "pygments_lexer": "ipython3",
   "version": "3.7.1"
  }
 },
 "nbformat": 4,
 "nbformat_minor": 2
}
